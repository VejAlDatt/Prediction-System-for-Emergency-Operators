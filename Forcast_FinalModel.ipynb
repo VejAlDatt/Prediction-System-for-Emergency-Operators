{
  "cells": [
    {
      "cell_type": "markdown",
      "metadata": {
        "id": "view-in-github",
        "colab_type": "text"
      },
      "source": [
        "<a href=\"https://colab.research.google.com/github/VejAlDatt/Prediction-System-for-Emergency-Operators/blob/main/Forcast_FinalModel.ipynb\" target=\"_parent\"><img src=\"https://colab.research.google.com/assets/colab-badge.svg\" alt=\"Open In Colab\"/></a>"
      ]
    },
    {
      "cell_type": "markdown",
      "metadata": {
        "id": "E3KmR-XId9eH"
      },
      "source": [
        "# **Final Model**\n",
        "\n",
        "\n",
        "\n",
        "This model is purposeful to predict the daily standby drivers needed, such that the percentage of standby drivers deployed are higher than the previous approach of keeping 90 drivers on hold."
      ]
    },
    {
      "cell_type": "code",
      "execution_count": 37,
      "metadata": {
        "id": "1fqEX1itVc01"
      },
      "outputs": [],
      "source": [
        "#Importation of various libraries for data analysis and machine learning\n",
        "\n",
        "import pandas\n",
        "import numpy\n",
        "import matplotlib.pyplot\n",
        "import datetime\n",
        "import warnings\n",
        "import keras.utils\n",
        "from xgboost import XGBRegressor\n",
        "from sklearn.ensemble import RandomForestRegressor\n",
        "from sklearn.metrics import mean_squared_error\n",
        "import sklearn\n",
        "from sklearn import *\n"
      ]
    },
    {
      "cell_type": "code",
      "execution_count": 38,
      "metadata": {
        "id": "X8TuAAbeVc04"
      },
      "outputs": [],
      "source": [
        "\n",
        "#Reads the dataset into a Pandas dataframe, converts the \"date\" column into a datetime format, \n",
        "#adds columns for year, month, day of the week, week of the year, day of the month, \n",
        "#and day of the year using Pandas datetime functions.\n",
        "\n",
        "warnings.filterwarnings('ignore')\n",
        "sicknessDataframe = pandas.read_csv('/content/sickness_table.csv', delimiter=None, squeeze=False,index_col=0)\n",
        "sicknessDataframe['date'] = pandas.to_datetime(sicknessDataframe['date'], yearfirst=False, exact=True)\n",
        "sicknessDataframe['year']= sicknessDataframe['date'].dt.year\n",
        "sicknessDataframe['month']= sicknessDataframe['date'].dt.month\n",
        "sicknessDataframe['weekly_day'] = sicknessDataframe['date'].dt.day_of_week \n",
        "sicknessDataframe['week'] = sicknessDataframe['date'].dt.weekofyear \n",
        "sicknessDataframe['day_in_month'] = sicknessDataframe['date'].dt.day\n",
        "sicknessDataframe['day_in_year'] = sicknessDataframe['date'].dt.dayofyear\n",
        "\n"
      ]
    },
    {
      "cell_type": "markdown",
      "metadata": {
        "id": "LdFjx1p5hgf2"
      },
      "source": [
        "**Model Selection**\n",
        "\n",
        "In this model selection phase, two regression models, namely XGBoost and Random Forest, were trained on selected features of the dataset to predict the number of standby drivers based on the number of calls. The determination of most optimal regression model was determined by comparing the mean square error (MSE) from both models, where the model with the lowest MSE was deemed the most optimal model."
      ]
    },
    {
      "cell_type": "code",
      "execution_count": 39,
      "metadata": {
        "colab": {
          "base_uri": "https://localhost:8080/"
        },
        "id": "kYwzrlFXe-Es",
        "outputId": "6b23c5b6-e35a-46ce-a932-d3862c36621e"
      },
      "outputs": [
        {
          "output_type": "stream",
          "name": "stdout",
          "text": [
            "[17:16:42] WARNING: /workspace/src/objective/regression_obj.cu:152: reg:linear is now deprecated in favor of reg:squarederror.\n",
            "[17:16:42] WARNING: /workspace/src/objective/regression_obj.cu:152: reg:linear is now deprecated in favor of reg:squarederror.\n",
            "(XGBoost) The MSE for forcasting standby drivers based on calls is 14477.635004645661\n",
            "(Random Forest) The MSE for forcasting standby drivers based on calls is 12644.686177391304\n"
          ]
        }
      ],
      "source": [
        "#function will model, split and forcast based on the provided inputs\n",
        "def model_fit_predict(dataX, dataY, mlmodel, idx=922):\n",
        "  trainX, testX = dataX[:idx], dataX[idx:]\n",
        "  trainY, testY = dataY[:idx], dataY[idx:]\n",
        "  mlmodel.fit(trainX, trainY)\n",
        "  return mlmodel.predict(testX), testY\n",
        "\n",
        "#XGBoost - Making prediction based on the number of emergency calls received \n",
        "calls_pred, calls_test = model_fit_predict(sicknessDataframe[['year', 'month', 'weekly_day', 'week']].values, sicknessDataframe.calls.values, mlmodel=XGBRegressor())\n",
        "sicknessDataframe['calls_new'] = numpy.concatenate((sicknessDataframe['calls'].iloc[:922].values, calls_pred))\n",
        "#XGBoost - Making the standby drivers prediction based on the number of emergency calls received \n",
        "sby_pred, sby_test = model_fit_predict(sicknessDataframe[['year', 'month', 'weekly_day', 'week', 'calls_new']].values, sicknessDataframe.sby_need.values,mlmodel=XGBRegressor())\n",
        "print('(XGBoost) The MSE for forcasting standby drivers based on calls is', mean_squared_error(sby_test, sby_pred))\n",
        "\n",
        "#Random Forest - Making prediction based on the number of emergency calls received \n",
        "calls_pred, calls_test = model_fit_predict(sicknessDataframe[['year', 'month', 'weekly_day', 'week']].values, sicknessDataframe.calls.values, mlmodel=RandomForestRegressor())\n",
        "sicknessDataframe['calls_new'] = numpy.concatenate((sicknessDataframe['calls'].iloc[:922].values, calls_pred))\n",
        "#Random Forest - Making the standby drivers prediction based on the number of emergency calls received \n",
        "sby_pred, sby_test = model_fit_predict(sicknessDataframe[['year', 'month', 'weekly_day', 'week', 'calls_new']].values, sicknessDataframe.sby_need.values,mlmodel=RandomForestRegressor())\n",
        "print('(Random Forest) The MSE for forcasting standby drivers based on calls is', mean_squared_error(sby_test, sby_pred))\n"
      ]
    },
    {
      "cell_type": "code",
      "execution_count": 40,
      "metadata": {
        "id": "kXswhEFjlqag"
      },
      "outputs": [],
      "source": [
        "sicknessDataframe.drop(columns=['calls_new'], inplace=True)"
      ]
    },
    {
      "cell_type": "markdown",
      "metadata": {
        "id": "geTC0oLtmXUA"
      },
      "source": [
        "Finding: *A Random Forest regression model will be used to predict the \"sby_need\" based on the predicted values of \"calls\"*"
      ]
    },
    {
      "cell_type": "code",
      "execution_count": 41,
      "metadata": {
        "id": "gKNwz9r1Vc05"
      },
      "outputs": [],
      "source": [
        "'''\n",
        "The provided sickness dataset is splitted into two dataframe. DataframeX contains datetime variables from the dataset,\n",
        "whiles DataframeY contains the \"calls\" column. Further, each of the aforementioned dataframes are splitted into training sets \n",
        "(first 922 rows) and testing sets (rest of the rows).\n",
        "'''\n",
        "\n",
        "dataframeX  = sicknessDataframe[sicknessDataframe.columns[7:13]]\n",
        "dataframeY = sicknessDataframe['calls']\n",
        "\n",
        "def datasetSplit(dataset):\n",
        "\treturn dataset[:922], dataset[922:]\n",
        "\n",
        "trainX, testX = datasetSplit(dataframeX)\n",
        "trainY, testY = datasetSplit(dataframeY)\n",
        "\n"
      ]
    },
    {
      "cell_type": "code",
      "execution_count": 42,
      "metadata": {
        "id": "NL_zfBvmNslj"
      },
      "outputs": [],
      "source": [
        "#Model is an instance of the RandomForestRegressor class\n",
        "model = sklearn.ensemble.RandomForestRegressor(n_estimators=1000, random_state=6)\n",
        "#Training the model on the training data\n",
        "model.fit(trainX, trainY)\n",
        "#Making predictions on the test data \n",
        "pred = model.predict(testX)"
      ]
    },
    {
      "cell_type": "code",
      "execution_count": 43,
      "metadata": {
        "id": "44wcuGo4OTjw"
      },
      "outputs": [],
      "source": [
        "'''\n",
        "Creating a new dataframe by selecting the 'calls' column from the 'sicknessDataframe', renames it to 'Initial data' \n",
        "and creates another dataframe with a single column 'forecast' storing the values of 'pred' variable above.\n",
        "'''\n",
        "Real_dataframe = sicknessDataframe[['calls']]\n",
        "Real_dataframe.rename(columns = {'calls':'Initial data'}, inplace = True)\n",
        "data_forcast = pandas.DataFrame(data = {'forecast': pred})"
      ]
    },
    {
      "cell_type": "markdown",
      "metadata": {
        "id": "djpydDZZVc09"
      },
      "source": [
        "**Model Tuning**"
      ]
    },
    {
      "cell_type": "code",
      "execution_count": 44,
      "metadata": {
        "colab": {
          "base_uri": "https://localhost:8080/"
        },
        "id": "Yo4_LiikJb4T",
        "outputId": "5a761605-0eaf-45fa-a1cf-2f721bf366e8"
      },
      "outputs": [
        {
          "output_type": "stream",
          "name": "stdout",
          "text": [
            "bootstrap: True\n",
            "ccp_alpha: 0.0\n",
            "criterion: squared_error\n",
            "max_depth: None\n",
            "max_features: auto\n",
            "max_leaf_nodes: None\n",
            "max_samples: None\n",
            "min_impurity_decrease: 0.0\n",
            "min_samples_leaf: 1\n",
            "min_samples_split: 2\n",
            "min_weight_fraction_leaf: 0.0\n",
            "n_estimators: 1000\n",
            "n_jobs: None\n",
            "oob_score: False\n",
            "random_state: 6\n",
            "verbose: 0\n",
            "warm_start: False\n"
          ]
        }
      ],
      "source": [
        "'''\n",
        "Retrieving the parameters of the model defined above, then printing \n",
        "the value from the returned dictionary ‘rfvar’\n",
        "'''\n",
        "rfvar = model.get_params()\n",
        "for key, value in rfvar.items():\n",
        " print(f'{key}: {value}')\n"
      ]
    },
    {
      "cell_type": "code",
      "execution_count": 45,
      "metadata": {
        "id": "kMgG2uEhhWpL"
      },
      "outputs": [],
      "source": [
        "'''\n",
        "Defining several hyperparameter values to be used in the randomised and \n",
        "grid search phase of the model training process\n",
        "'''\n",
        "n_estimators = list(range(200,2001,200))\n",
        "max_features = [ 'auto','sqrt']\n",
        "max_depth = list(range(10,111,10)) + [None]\n",
        "min_samples_split = [x for x in [2, 5, 10]]\n",
        "min_samples_leaf = [x for x in [1, 2, 4]]    \n",
        "bootstrap = [True, False]\n"
      ]
    },
    {
      "cell_type": "code",
      "execution_count": 46,
      "metadata": {
        "id": "GCq2o5UsAxU7"
      },
      "outputs": [],
      "source": [
        "\n",
        "#Creating a key-value paired dictionary that contains the aforestated hyperparameters\n",
        "\n",
        "rfDataMatrix = {'n_estimators': n_estimators,\n",
        "               'max_features': max_features,\n",
        "               'max_depth': max_depth,\n",
        "               'min_samples_split': min_samples_split,\n",
        "               'min_samples_leaf': min_samples_leaf,\n",
        "               'bootstrap': bootstrap}"
      ]
    },
    {
      "cell_type": "code",
      "execution_count": 47,
      "metadata": {
        "id": "2o1F4lE4A5xG"
      },
      "outputs": [],
      "source": [
        "\n",
        "# Note: This code was executed and covered, since it took an exorbitantly long time to execute. The output is documented below.\n",
        "\n",
        "#Creating an instance of RandomForestRegressor()\n",
        "#dataModel = sklearn.ensemble.RandomForestRegressor()\n",
        "\n",
        "#Performing random search with cross-validation to find the best hyperparameters for the model\n",
        "#dataModelR = RandomizedSearchCV(estimator = dataModel , param_distributions = rfDataMatrix, n_iter = 100, cv = 3, verbose=2, random_state=42, n_jobs = -1)\n",
        "\n",
        "#Fitting the dataModelR to the training data and target values\n",
        "#dataModelR.fit(trainX, trainY)\n",
        "\n",
        "\n"
      ]
    },
    {
      "cell_type": "markdown",
      "metadata": {
        "id": "UcIbFQIvVc1A"
      },
      "source": [
        "Output of parameters:\n",
        "{'n_estimators': 2000,\n",
        " 'min_samples_split': 5,\n",
        " 'min_samples_leaf': 1,\n",
        " 'max_features': 'sqrt',\n",
        " 'max_depth': 10,\n",
        " 'bootstrap': True}"
      ]
    },
    {
      "cell_type": "code",
      "execution_count": 48,
      "metadata": {
        "colab": {
          "base_uri": "https://localhost:8080/"
        },
        "id": "dEBPn-jVBDL9",
        "outputId": "3ad8313c-5841-4c03-9bb9-f71ad0c8688d"
      },
      "outputs": [
        {
          "output_type": "stream",
          "name": "stdout",
          "text": [
            "MSE is 1527716.7756915651 and RSME is 1236.01\n"
          ]
        }
      ],
      "source": [
        "#Initializing a random forest regression model\n",
        "modelA = sklearn.ensemble.RandomForestRegressor(n_estimators = 1000, random_state = 6)\n",
        "#Fit the model to the training data \n",
        "modelA.fit(trainX, trainY)\n",
        "#Calculating the MSE & RMSE between the true values and the predictions\n",
        "MeanSquareError = sklearn.metrics.mean_squared_error(testY, modelA.predict(testX))\n",
        "RootMeanSquareError = round(numpy.sqrt(MeanSquareError), 2)\n",
        "print(f'MSE is {MeanSquareError} and RSME is {RootMeanSquareError}')\n"
      ]
    },
    {
      "cell_type": "code",
      "execution_count": 49,
      "metadata": {
        "colab": {
          "base_uri": "https://localhost:8080/"
        },
        "id": "CwA_AjfaVc1C",
        "outputId": "df2b7dfc-7b4e-4298-91b9-c1f912208c89"
      },
      "outputs": [
        {
          "output_type": "stream",
          "name": "stdout",
          "text": [
            "Fitting 3 folds for each of 81 candidates, totalling 243 fits\n"
          ]
        }
      ],
      "source": [
        "'''\n",
        "Performing grid search cross-validation to find the best hyperparameters for the model by fitting it to the training data\n",
        "'''\n",
        "#Takes some time to execute\n",
        "parameters= dict(bootstrap=[True], max_depth=[0, 10, 20], max_features=['sqrt'], \n",
        "              min_samples_leaf=[1, 2, 3], min_samples_split=[3, 5, 7], n_estimators=[1800, 2000, 2200])\n",
        "\n",
        "model = sklearn.ensemble.RandomForestRegressor()\n",
        "grid = sklearn.model_selection.GridSearchCV(model, parameters, cv=3, n_jobs=-1, verbose=2).fit(trainX, trainY)"
      ]
    },
    {
      "cell_type": "markdown",
      "metadata": {
        "id": "apxGVMV2Vc1D"
      },
      "source": [
        "Best Parameters:\n",
        "<br>\n",
        "{'bootstrap': True,\n",
        " 'max_depth': 10,\n",
        " 'max_features': 'sqrt',\n",
        " 'min_samples_leaf': 1,\n",
        " 'min_samples_split': 7,\n",
        " 'n_estimators': 1800}"
      ]
    },
    {
      "cell_type": "code",
      "execution_count": 50,
      "metadata": {
        "colab": {
          "base_uri": "https://localhost:8080/"
        },
        "id": "T57XTn3iVc1D",
        "outputId": "2b1b50a4-6d20-4835-c68b-699ba25e6199"
      },
      "outputs": [
        {
          "output_type": "stream",
          "name": "stdout",
          "text": [
            "MSE is 1466642.7151082344 and RSME is 1211.05\n"
          ]
        }
      ],
      "source": [
        "'''\n",
        " Selecting the best estimator from the grid search cross-validation, \n",
        " and calculating the mean squared error and root mean squared error of the prediction on test data\n",
        "'''\n",
        "\n",
        "gridBest = grid.best_estimator_ \n",
        "\n",
        "MeanSquareError = sklearn.metrics.mean_squared_error(testY, gridBest.predict(testX))\n",
        "RootMeanSquareError = round(numpy.sqrt(MeanSquareError), 2)\n",
        "print(f'MSE is {MeanSquareError} and RSME is {RootMeanSquareError}')\n"
      ]
    },
    {
      "cell_type": "markdown",
      "metadata": {
        "id": "J1H_DHYgVc1D"
      },
      "source": [
        "**Forcast using updated parameters**"
      ]
    },
    {
      "cell_type": "code",
      "execution_count": 51,
      "metadata": {
        "colab": {
          "base_uri": "https://localhost:8080/"
        },
        "id": "sYoSeCHsVc1E",
        "outputId": "b5a963aa-b105-4b53-afbd-09feaf42b320"
      },
      "outputs": [
        {
          "output_type": "stream",
          "name": "stdout",
          "text": [
            "Evaluation of the model:\n",
            "MSE is 1475635.4393029185 and RSME is 1214.76\n"
          ]
        }
      ],
      "source": [
        "'''\n",
        "The model was trained on specific hyperparameters, fitted to the training data, \n",
        "in order to make predictions on the test data. The model's performance was then evaluated\n",
        "'''\n",
        "\n",
        "rf_reg = sklearn.ensemble.RandomForestRegressor(bootstrap=True, max_depth=10, max_features='sqrt',\n",
        "                                min_samples_leaf=1, min_samples_split=7, n_estimators=1800, random_state=6)\n",
        "rf_reg.fit(trainX, trainY)\n",
        "predictions = rf_reg.predict(testX)\n",
        "print(\"Evaluation of the model:\")\n",
        "MeanSquareError = sklearn.metrics.mean_squared_error(testY, rf_reg.predict(testX))\n",
        "RootMeanSquareError = round(numpy.sqrt(MeanSquareError), 2)\n",
        "print(f'MSE is {MeanSquareError} and RSME is {RootMeanSquareError}')\n"
      ]
    },
    {
      "cell_type": "code",
      "execution_count": 52,
      "metadata": {
        "colab": {
          "base_uri": "https://localhost:8080/"
        },
        "id": "9AYyQ8gIVc1E",
        "outputId": "a5d1844f-b74f-4967-e31a-05ce4f25a7d1"
      },
      "outputs": [
        {
          "output_type": "stream",
          "name": "stdout",
          "text": [
            "MSE is 417187.7318137419 and RSME is 645.9\n"
          ]
        }
      ],
      "source": [
        "rf_reg.predict(trainX)\n",
        "#Calculating the MSE and the RMSE between the actual values and the predictions\n",
        "MeanSquareError = sklearn.metrics.mean_squared_error(trainY, rf_reg.predict(trainX))\n",
        "RootMeanSquareError = round(numpy.sqrt(MeanSquareError), 2)\n",
        "print(f'MSE is {MeanSquareError} and RSME is {RootMeanSquareError}')\n"
      ]
    },
    {
      "cell_type": "markdown",
      "metadata": {
        "id": "59b3bhDYVc1F"
      },
      "source": [
        "**Prediction for emergency standby drivers based on the predicted calls.**"
      ]
    },
    {
      "cell_type": "code",
      "execution_count": 53,
      "metadata": {
        "id": "HashtZPOVc1F"
      },
      "outputs": [],
      "source": [
        "'''\n",
        "The code provided below concatenates the first 922 values of the \"calls\" column from the \"sicknessDataframe\"\n",
        "and the \"forecast\" column from the \"data_forcast\" dataframe into a new dataframe named \"recentCalls\".\n",
        "\n",
        "It then creates a copy of the original \"sicknessDataframe\" and assigns the \"recentCalls\" dataframe \n",
        "as the new values for the \"recentCalls\" column in the copy, which is stored in the \"preliminarySicknessDataframe\".\n",
        "\n",
        "'''\n",
        "recentCalls = pandas.concat([sicknessDataframe['calls'].T.head(922).T, data_forcast['forecast']]).reset_index(level = None, drop=True)\n",
        "preliminarySicknessDataframe = sicknessDataframe.copy(deep=True)\n",
        "preliminarySicknessDataframe['recentCalls'] = recentCalls\n",
        "\n"
      ]
    },
    {
      "cell_type": "code",
      "execution_count": 54,
      "metadata": {
        "id": "0QWPuW-uVc1F"
      },
      "outputs": [],
      "source": [
        "\n",
        "#Designating date variables, and the \"call\" variable to the dataframe\n",
        "dataframe_X = preliminarySicknessDataframe.iloc[:, [7,8,9,10,3,11,12,13]]\n",
        "#Designating the \"sby_need\" variable to the dataframe\n",
        "dataframe_Y = preliminarySicknessDataframe.iloc[:,5]\n",
        "\n",
        "\n"
      ]
    },
    {
      "cell_type": "code",
      "execution_count": 55,
      "metadata": {
        "id": "cZGMPXYGVc1G"
      },
      "outputs": [],
      "source": [
        "\n",
        "#Spliting the dataframe to train the ML model\n",
        "trainX, testX = datasetSplit(dataframe_X)\n",
        "trainY, testY = datasetSplit(dataframe_Y)\n"
      ]
    },
    {
      "cell_type": "code",
      "execution_count": 56,
      "metadata": {
        "id": "4KknsPfMVc1G"
      },
      "outputs": [],
      "source": [
        "\n",
        "#Creates an instance of a Random Forest Regressor model, then fit to the training data 'trainX' and 'trainY'\n",
        "rfregressor = sklearn.ensemble.RandomForestRegressor(n_estimators=1000, max_depth=None, max_leaf_nodes = None, random_state=6).fit(trainX, trainY)\n"
      ]
    },
    {
      "cell_type": "code",
      "execution_count": 57,
      "metadata": {
        "colab": {
          "base_uri": "https://localhost:8080/",
          "height": 299
        },
        "id": "fXXtXjMIVc1G",
        "outputId": "4452bc7a-15d1-4910-e630-123d9387caff"
      },
      "outputs": [
        {
          "output_type": "stream",
          "name": "stdout",
          "text": [
            "[0.05613926 0.00100437 0.00176985 0.00147542 0.05494442 0.00388571\n",
            " 0.00214394 0.87863703]\n"
          ]
        },
        {
          "output_type": "display_data",
          "data": {
            "text/plain": [
              "<Figure size 432x288 with 1 Axes>"
            ],
            "image/png": "[encoded data removed]"
          },
          "metadata": {
            "needs_background": "light"
          }
        }
      ],
      "source": [
        "\n",
        "#Computes and visualizes the feature importances of the trained random forest regressor model\n",
        "variableRank = rfregressor.feature_importances_\n",
        "matplotlib.pyplot.barh(range(len(numpy.argsort(variableRank))), variableRank[numpy.argsort(variableRank)])\n",
        "matplotlib.pyplot.yticks(range(len(numpy.argsort(variableRank))), numpy.array(dataframe_X.columns)[numpy.argsort(variableRank)])\n",
        "print(variableRank)\n",
        "\n"
      ]
    },
    {
      "cell_type": "code",
      "execution_count": 58,
      "metadata": {
        "id": "m4m7_iCcVc1H"
      },
      "outputs": [],
      "source": [
        "#One-hot encodes the \"year\" column in the \"preliminarySicknessDataframe\" and adds the encoded columns to the original dataframe\n",
        "encoder = pandas.DataFrame(keras.utils.to_categorical(preliminarySicknessDataframe['year'], dtype='uint8')).add_prefix('period_')\n",
        "preliminarySicknessDataframe = preliminarySicknessDataframe.join(encoder)\n",
        "\n"
      ]
    },
    {
      "cell_type": "code",
      "execution_count": 59,
      "metadata": {
        "id": "jZJh06cKVc1H"
      },
      "outputs": [],
      "source": [
        "\n",
        "#Slicing a dataframe named preliminarySicknessDataframe into two new dataframes dataX and dataY.\n",
        "dataX = preliminarySicknessDataframe.iloc[:, [3,13,2030,2031,2032,2033]]\n",
        "#sby_need\n",
        "dataY = preliminarySicknessDataframe.iloc[:,5] \n",
        "\n",
        "#Further, spliting of the the dataframes dataX and dataY into training sets and test sets\n",
        "trainX, testX = datasetSplit(dataX)\n",
        "trainY, testY = datasetSplit(dataY)\n",
        "\n",
        "#dataX.head()"
      ]
    },
    {
      "cell_type": "code",
      "execution_count": 60,
      "metadata": {
        "id": "sgL8-vRVVc1H"
      },
      "outputs": [],
      "source": [
        "#Transforming the string values into numerical labels and assigning the result back to the \"year\" column\n",
        "\n",
        "preliminarySicknessDataframe['year']= sklearn.preprocessing.LabelEncoder().fit_transform(preliminarySicknessDataframe['year'])\n"
      ]
    },
    {
      "cell_type": "code",
      "execution_count": 61,
      "metadata": {
        "id": "PR03W6atVc1H"
      },
      "outputs": [],
      "source": [
        "\n",
        "#Splitting the 'preliminarySicknessDataframe' into two dataframes\n",
        "dataA = preliminarySicknessDataframe.iloc[:, [3,13,7]]\n",
        "#sby_need\n",
        "dataB = preliminarySicknessDataframe.iloc[:,5]\n",
        "#dataA.head()\n"
      ]
    },
    {
      "cell_type": "code",
      "execution_count": 62,
      "metadata": {
        "id": "oeHZcxuSVc1I"
      },
      "outputs": [],
      "source": [
        "#Splitting the previously discussed dataframes into training and testing sets\n",
        "trainX, testX = datasetSplit(dataA)\n",
        "trainY, testY = datasetSplit(dataB)\n"
      ]
    },
    {
      "cell_type": "code",
      "execution_count": 63,
      "metadata": {
        "id": "huYowAAgVc1I"
      },
      "outputs": [],
      "source": [
        "'''\n",
        "Training a quantile regression model, then fit the regression model to the training data trainX and trainY,\n",
        "then followed by predicting the target variable using the fitted model on the test set \n",
        "'''\n",
        "modelSby_need = (sklearn.linear_model.QuantileRegressor(quantile=0.95, fit_intercept=True, solver_options=None, alpha=0.25).fit(trainX, trainY))\n",
        "\n",
        "forecastA = modelSby_need.predict(testX)\n",
        "forecastA = pandas.Series(forecastA)\n"
      ]
    },
    {
      "cell_type": "code",
      "execution_count": 64,
      "metadata": {
        "colab": {
          "base_uri": "https://localhost:8080/"
        },
        "id": "77Z9UJKNVc1I",
        "outputId": "61d7787f-1d44-4c1d-fc5a-5b805c857637"
      },
      "outputs": [
        {
          "output_type": "stream",
          "name": "stdout",
          "text": [
            "(Test) MSE is 13815.570524451501 and RSME is 117.54\n",
            "(Train) MSE is 14543.081209034382 and RSME is 120.59\n"
          ]
        }
      ],
      "source": [
        "'''\n",
        "Performs evaluation of the regression model \n",
        "by computing the mean squared error (MSE) and root mean squared error (RSME) on both the test and training data.\n",
        "'''\n",
        "\n",
        "#Remove zero values\n",
        "forecastA = forecastA[forecastA!=0]\n",
        "\n",
        "Real_dataframe = pandas.DataFrame(data = {'initial_data': dataB})\n",
        "data_forcast = pandas.DataFrame(data = {'forecast': forecastA})\n",
        "\n",
        "MeanSquareError = sklearn.metrics.mean_squared_error(testY, modelSby_need.predict(testX))\n",
        "RootMeanSquareError = round(numpy.sqrt(MeanSquareError), 2)\n",
        "print(f'(Test) MSE is {MeanSquareError} and RSME is {RootMeanSquareError}')\n",
        "\n",
        "MeanSquareError = sklearn.metrics.mean_squared_error(trainY, modelSby_need.predict(trainX))\n",
        "RootMeanSquareError = round(numpy.sqrt(MeanSquareError), 2)\n",
        "print(f'(Train) MSE is {MeanSquareError} and RSME is {RootMeanSquareError}')\n",
        "\n"
      ]
    },
    {
      "cell_type": "code",
      "execution_count": 65,
      "metadata": {
        "colab": {
          "base_uri": "https://localhost:8080/",
          "height": 461
        },
        "id": "-mGK0xdPVc1J",
        "outputId": "67ac8434-62d8-4b03-c3e6-27777dad7f47"
      },
      "outputs": [
        {
          "output_type": "execute_result",
          "data": {
            "text/plain": [
              "Text(0.5, 1.0, 'Initial and Forcasted Data')"
            ]
          },
          "metadata": {},
          "execution_count": 65
        },
        {
          "output_type": "display_data",
          "data": {
            "text/plain": [
              "<Figure size 936x504 with 1 Axes>"
            ],
            "image/png": "[encoded data removed]"
          },
          "metadata": {
            "needs_background": "light"
          }
        }
      ],
      "source": [
        "#Plotting to compare the initial data and the forecasted data\n",
        "\n",
        "matplotlib.pyplot.figure(figsize=(13,7))\n",
        "matplotlib.pyplot.plot(Real_dataframe['initial_data'], label = 'initial data')\n",
        "matplotlib.pyplot.plot(data_forcast['forecast'], label = 'forecast')\n",
        "matplotlib.pyplot.xlim([0, 250])\n",
        "matplotlib.pyplot.legend()\n",
        "matplotlib.pyplot.ylabel('Standby Drivers')\n",
        "matplotlib.pyplot.title('Initial and Forcasted Data') "
      ]
    },
    {
      "cell_type": "code",
      "execution_count": 66,
      "metadata": {
        "id": "iSeFVK48Vc1J"
      },
      "outputs": [],
      "source": [
        "#Creating a copy of the preliminarySicknessDataframe dataframe\n",
        "sicknessDataframe_final = preliminarySicknessDataframe.copy(deep=True)\n",
        "\n",
        "#Concatenating the first 922 rows of preliminarySicknessDataframe['sby_need'] and forecastA dataframes, then resetting the index\n",
        "forcastStandbyRequired = pandas.concat([preliminarySicknessDataframe['sby_need'].T.head(922).T, forecastA]).reset_index(level = None, drop=True)\n",
        "\n",
        "#Adding the forcastStandbyRequired data as a new column to the sicknessDataframe_final dataframe\n",
        "sicknessDataframe_final['forcastStandbyRequired'] = forcastStandbyRequired\n",
        "\n",
        "#Creating a new dataframe by taking all rows of sicknessDataframe_final starting from the 922nd row, then resetting the index.\n",
        "driversDataframe = (sicknessDataframe_final.iloc[922:]).reset_index(level = None, drop=True)\n"
      ]
    },
    {
      "cell_type": "code",
      "execution_count": 67,
      "metadata": {
        "colab": {
          "base_uri": "https://localhost:8080/"
        },
        "id": "OjARwQXrVc1J",
        "outputId": "322c3bcc-0353-496e-a61c-3abfe0916b53"
      },
      "outputs": [
        {
          "output_type": "stream",
          "name": "stdout",
          "text": [
            "Shortage Drivers occured for 35 days with a percentage of 15.217391304347828\n",
            "Excess Drivers occured for 195 days with a percentage of 84.78260869565219\n",
            "The overall mean percentage is 87.4259502656208\n"
          ]
        }
      ],
      "source": [
        "'''\n",
        "Calculating the shortage and excess of drivers and the average percentage of their difference \n",
        "compared to the forecasted and actual number of drivers needed.\n",
        "'''\n",
        "\n",
        "tempforcast = driversDataframe['forcastStandbyRequired']\n",
        "tempActual = driversDataframe['sby_need']\n",
        "\n",
        "varA = len(driversDataframe)/100\n",
        "\n",
        "driversDataframe['shortage_drivers'] = numpy.where(tempforcast < tempActual, 1, 0)\n",
        "driversDataframe['excess_drivers'] = numpy.where(tempforcast > tempActual, 1, 0)\n",
        "\n",
        "shortage_drivers = driversDataframe['shortage_drivers'].sum()\n",
        "excess_drivers = driversDataframe['excess_drivers'].sum()\n",
        "driversDataframe['percent'] = tempforcast/tempActual\n",
        "\n",
        "driversDataframe['percent'].replace(numpy.inf, 0, inplace=True)\n",
        "\n",
        "percent = driversDataframe['percent'].mean()\n",
        "\n",
        "print(f'Shortage Drivers occured for {shortage_drivers} days with a percentage of {shortage_drivers/varA}')\n",
        "print(f'Excess Drivers occured for {excess_drivers} days with a percentage of {excess_drivers/varA}')\n",
        "print(f'The overall mean percentage is {percent*100}')\n",
        "\n"
      ]
    },
    {
      "cell_type": "code",
      "execution_count": 68,
      "metadata": {
        "id": "IhvHkK-8Vc1J"
      },
      "outputs": [],
      "source": [
        "sicknessDriversForcast = pandas.DataFrame({ 'date': pandas.date_range('2019-05-28', periods=65, freq='D'), 'n_duty' : 1900}) \n",
        "sicknessDriversForcast['year'] = sicknessDriversForcast['date'].dt.year\n",
        "sicknessDriversForcast['month'] = sicknessDriversForcast['date'].dt.month\n",
        "sicknessDriversForcast['day_in_month'] = sicknessDriversForcast['date'].dt.day\n",
        "sicknessDriversForcast['day_in_year'] = sicknessDriversForcast['date'].dt.dayofyear\n",
        "sicknessDriversForcast['weekly_day'] = sicknessDriversForcast['date'].dt.day_of_week \n",
        "sicknessDriversForcast['week'] = sicknessDriversForcast['date'].dt.weekofyear \n",
        "sicknessDriversForcast['recentCalls'] = ''\n",
        "sicknessDriversForcast['forcastStandbyRequired'] = ''\n"
      ]
    },
    {
      "cell_type": "code",
      "execution_count": 69,
      "metadata": {
        "id": "8YGEw1aSVc1J"
      },
      "outputs": [],
      "source": [
        "'''\n",
        "Creating a new Dataframe entitled ‘sicknessDriversForcast_temp’ for some of the columns from the sicknessDataframe_final dataframe. \n",
        "Then, the ‘forcasted_calls’ Dataframe is then created by appending the ‘sicknessDriversForcast’ dataframe to the \n",
        "‘sicknessDriversForcast_temp’. Then, lastly the recent calls are predicted using the Random Forest Regressor model and \n",
        "assigned to the forcasted_calls dataframe\n",
        "\n",
        "'''\n",
        "sicknessDriversForcast_temp = sicknessDataframe_final.loc[:,:]\n",
        "\n",
        "sicknessDriversForcast_temp = sicknessDriversForcast_temp[[column for column in sicknessDriversForcast_temp.columns if \n",
        "                                                             column not in ['calls', 'period_2016', \n",
        "                                                             'period_2017', 'period_2018', 'period_2019', 'dafted', 'n_sick', 'n_sby']]]\n",
        "\n",
        "forcasted_calls = sicknessDriversForcast_temp.append(sicknessDriversForcast, ignore_index=True)\n",
        "dataC = forcasted_calls.iloc[:, [3,4,5,6,7,8]]\n",
        "#dataC.head()\n",
        "forcastcalls= pandas.Series(rf_reg.predict(dataC[1152:]))\n",
        "recentCalls = forcasted_calls[forcasted_calls.index < 1152]['recentCalls'].append(forcastcalls, ignore_index=True)\n",
        "forcasted_calls.loc[:,'recentCalls'] = recentCalls"
      ]
    },
    {
      "cell_type": "code",
      "execution_count": 70,
      "metadata": {
        "id": "tdrmdmNGVc1K"
      },
      "outputs": [],
      "source": [
        "#Creating the 'dataTemp' dataframe by converting the 'year' column in  'forcasted_calls' DataFrame into one-hot encoded categorical data \n",
        "dataTemp = pandas.DataFrame(keras.utils.to_categorical(forcasted_calls['year'], dtype='uint8')).add_prefix('period_')\n",
        "\n",
        "#Adds the one-hot encoded categorical data 'encoderB' to the 'forcasted_calls' DataFrame \n",
        "encoderB = dataTemp.iloc[:, [0,1,2,3,2019]]\n",
        "forcasted_calls = forcasted_calls.join(encoderB, how = 'left', lsuffix='left', rsuffix='right')\n",
        "\n",
        "#Predicts the 'sby_need' values\n",
        "dataforcastCalls = forcasted_calls.iloc[:, [1,9,2031]]\n",
        "forcastcalls= round(pandas.Series(modelSby_need.predict(dataforcastCalls[1152:])))"
      ]
    },
    {
      "cell_type": "code",
      "execution_count": 71,
      "metadata": {
        "id": "l0uO4CmRVc1L"
      },
      "outputs": [],
      "source": [
        "\n",
        "#The first 1152 rows of \"forcasted_calls\", which contains the \"forcastStandbyRequired\" column, is appended with the \"forcastcalls\" series\n",
        "forcastStandbyRequired = forcasted_calls[forcasted_calls.index < 1152]['forcastStandbyRequired'].append(forcastcalls, ignore_index=True)\n",
        "forcasted_calls.loc[:,'forcastStandbyRequired'] = forcastStandbyRequired\n",
        "\n",
        "#Extracting the results\n",
        "forecastData = forcasted_calls.iloc[:, [0,1,9,2026]][1152:].reset_index(drop=True)\n",
        "\n",
        "\n",
        "\n",
        "#forecastData.head()"
      ]
    },
    {
      "cell_type": "code",
      "execution_count": 72,
      "metadata": {
        "id": "oOqDpYHLVc1L"
      },
      "outputs": [],
      "source": [
        "forecastData.to_csv('forecastData1.csv', index=False)\n",
        "\n",
        "\n",
        "\n"
      ]
    }
  ],
  "metadata": {
    "colab": {
      "provenance": [],
      "authorship_tag": "ABX9TyMMdWtnncFDadmk4R4YAbSP",
      "include_colab_link": true
    },
    "kernelspec": {
      "display_name": "Python 3",
      "name": "python3"
    },
    "language_info": {
      "name": "python"
    }
  },
  "nbformat": 4,
  "nbformat_minor": 0
}