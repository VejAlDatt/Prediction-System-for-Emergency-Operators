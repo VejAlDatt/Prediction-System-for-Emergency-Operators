{
  "nbformat": 4,
  "nbformat_minor": 0,
  "metadata": {
    "colab": {
      "provenance": [],
      "authorship_tag": "ABX9TyO9KjlpHu4o7/3oIBgvOQcM",
      "include_colab_link": true
    },
    "kernelspec": {
      "name": "python3",
      "display_name": "Python 3"
    },
    "language_info": {
      "name": "python"
    }
  },
  "cells": [
    {
      "cell_type": "markdown",
      "metadata": {
        "id": "view-in-github",
        "colab_type": "text"
      },
      "source": [
        "<a href=\"https://colab.research.google.com/github/VejAlDatt/Prediction-System-for-Emergency-Operators/blob/main/ForcastBaselineModel.ipynb\" target=\"_parent\"><img src=\"https://colab.research.google.com/assets/colab-badge.svg\" alt=\"Open In Colab\"/></a>"
      ]
    },
    {
      "cell_type": "markdown",
      "source": [
        "**Baseline Model**\n",
        "\n",
        "This baseline model is purposeful to find the number and percentage of shortages and surpluses of emergency standby drivers, and the average activation rate."
      ],
      "metadata": {
        "id": "_PXCs0gkUtnD"
      }
    },
    {
      "cell_type": "code",
      "execution_count": null,
      "metadata": {
        "id": "GS89Cnr3Ik_6"
      },
      "outputs": [],
      "source": [
        "#Importation of libraries\n",
        "import numpy, pandas\n",
        "import sklearn \n",
        "from sklearn import *"
      ]
    },
    {
      "cell_type": "code",
      "source": [
        "#Reading the dataset to a new dataframe\n",
        "sicknessDataframe = pandas.read_csv('/content/sickness_table.csv', index_col=0)"
      ],
      "metadata": {
        "id": "2NDPRvJbIq9o"
      },
      "execution_count": null,
      "outputs": []
    },
    {
      "cell_type": "code",
      "source": [
        "#Creates a new dataframe\n",
        "testdataframe = sicknessDataframe.iloc[922:].copy()\n",
        "\n",
        "#Calculates the root mean squared error (RMSE) between the values in the 'n_sby' column and the 'sby_need' column of the testdataframe\n",
        "rmse = (sklearn.metrics.mean_squared_error(testdataframe['n_sby'], testdataframe['sby_need']))**0.5\n",
        "print(f'Testing period RMSE: {rmse}')\n",
        "\n",
        "#Create new columns in the testdataframe, 'shortage' and 'surplus'\n",
        "testdataframe.loc[testdataframe['n_sby'] < testdataframe['sby_need'], 'shortage'] = 1\n",
        "testdataframe.loc[testdataframe['n_sby'] >= testdataframe['sby_need'], 'shortage'] = 0\n",
        "\n",
        "testdataframe.loc[testdataframe['n_sby'] > testdataframe['sby_need'], 'surplus'] = 1\n",
        "testdataframe.loc[testdataframe['n_sby'] <= testdataframe['sby_need'], 'surplus'] = 0\n",
        "\n",
        "#Calculates the number and percentage of rows in the testdataframe where the 'shortage' and 'surplus' columns are equal to 1\n",
        "shortage_count = (testdataframe['shortage'] == 1).sum()\n",
        "shortage_pct = shortage_count / len(testdataframe) * 100\n",
        "print(f'Shortage days: {shortage_count}, {shortage_pct}%')\n",
        "\n",
        "surplus_count = (testdataframe['surplus'] == 1).sum()\n",
        "surplus_pct = surplus_count / len(testdataframe) * 100\n",
        "print(f'Surplus days: {surplus_count}, {surplus_pct}%')\n",
        "\n",
        "#Creates a new column 'pctage' in the test_df dataframe, which is a copy of the testdataframe with the new column\n",
        "test_df = testdataframe.assign(pctage=testdataframe.n_sby / testdataframe.sby_need)\n",
        "#The 'pctage' column is replaced with 0.0 wherever the value is not a finite number\n",
        "test_df.pctage.where(~numpy.isinf(test_df.pctage), 0.0, inplace=True)\n",
        "#Average value of the 'pctage' column is calculated and multiplied by 100\n",
        "avg_activation = test_df.pctage.mean() * 100\n",
        "\n",
        "print(f'Average activation rate: {avg_activation:.2f}%')\n"
      ],
      "metadata": {
        "colab": {
          "base_uri": "https://localhost:8080/"
        },
        "id": "0uzxzdDDJCQO",
        "outputId": "edf1a098-cf64-4853-9c1d-0c8fafe839f5"
      },
      "execution_count": null,
      "outputs": [
        {
          "output_type": "stream",
          "name": "stdout",
          "text": [
            "Testing period RMSE: 112.51639494062536\n",
            "Shortage days: 48, 20.869565217391305%\n",
            "Surplus days: 182, 79.13043478260869%\n",
            "Average activation rate: 50.66%\n"
          ]
        }
      ]
    }
  ]
}